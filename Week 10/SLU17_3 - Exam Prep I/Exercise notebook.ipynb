{
 "cells": [
  {
   "cell_type": "markdown",
   "id": "686c8067",
   "metadata": {
    "deletable": false,
    "editable": false,
    "nbgrader": {
     "grade": false,
     "grade_id": "cell-89969ffa36503ffb",
     "locked": true,
     "schema_version": 3,
     "solution": false,
     "task": false
    }
   },
   "source": [
    "# SLU 17 - Exam Prep I\n",
    "\n",
    "## Batch 2 - Wave 2 Python Exam\n",
    "This is the Python exam from batch 2 - wave 2. Exam Duration: 2h"
   ]
  },
  {
   "cell_type": "code",
   "execution_count": 1,
   "id": "7d7a5e36",
   "metadata": {
    "deletable": false,
    "editable": false,
    "nbgrader": {
     "grade": false,
     "grade_id": "cell-6b65decf9204e5b9",
     "locked": true,
     "schema_version": 3,
     "solution": false,
     "task": false
    }
   },
   "outputs": [],
   "source": [
    "import json\n",
    "from operator import itemgetter\n",
    "import random\n",
    "#used for evaluation\n",
    "import utils"
   ]
  },
  {
   "cell_type": "code",
   "execution_count": 3,
   "id": "cardiovascular-second",
   "metadata": {},
   "outputs": [],
   "source": [
    "data=utils.generate_data()"
   ]
  },
  {
   "cell_type": "code",
   "execution_count": 4,
   "id": "interior-rapid",
   "metadata": {},
   "outputs": [
    {
     "data": {
      "text/plain": [
       "[{'animal_name': 'gull',\n",
       "  'hair': 0,\n",
       "  'feathers': '?',\n",
       "  'eggs': 1,\n",
       "  'milk': 0,\n",
       "  'aquatic': '?',\n",
       "  'toothed': 0,\n",
       "  'fins': 0,\n",
       "  'legs': 2,\n",
       "  'class_type': 'Bird'},\n",
       " {'animal_name': 'hare',\n",
       "  'hair': 1,\n",
       "  'feathers': '0',\n",
       "  'eggs': 0,\n",
       "  'milk': 1,\n",
       "  'aquatic': '0',\n",
       "  'toothed': 1,\n",
       "  'fins': 0,\n",
       "  'legs': 4,\n",
       "  'class_type': 'Mammal'},\n",
       " {'animal_name': 'gull',\n",
       "  'hair': 0,\n",
       "  'feathers': '?',\n",
       "  'eggs': 1,\n",
       "  'milk': 0,\n",
       "  'aquatic': '?',\n",
       "  'toothed': 0,\n",
       "  'fins': 0,\n",
       "  'legs': 2,\n",
       "  'class_type': 'Bird'},\n",
       " {'animal_name': 'pheasant',\n",
       "  'hair': 0,\n",
       "  'feathers': '?',\n",
       "  'eggs': 1,\n",
       "  'milk': 0,\n",
       "  'aquatic': '0',\n",
       "  'toothed': 0,\n",
       "  'fins': 0,\n",
       "  'legs': 2,\n",
       "  'class_type': 'Bird'},\n",
       " {'animal_name': 'cavy',\n",
       "  'hair': 1,\n",
       "  'feathers': '0',\n",
       "  'eggs': 0,\n",
       "  'milk': 1,\n",
       "  'aquatic': '0',\n",
       "  'toothed': 1,\n",
       "  'fins': 0,\n",
       "  'legs': 4,\n",
       "  'class_type': 'Mammal'},\n",
       " {'animal_name': 'haddock',\n",
       "  'hair': 0,\n",
       "  'feathers': '0',\n",
       "  'eggs': 1,\n",
       "  'milk': 0,\n",
       "  'aquatic': '?',\n",
       "  'toothed': 1,\n",
       "  'fins': 1,\n",
       "  'legs': 0,\n",
       "  'class_type': 'Fish'},\n",
       " {'animal_name': 'crow',\n",
       "  'hair': 0,\n",
       "  'feathers': '?',\n",
       "  'eggs': 1,\n",
       "  'milk': 0,\n",
       "  'aquatic': '0',\n",
       "  'toothed': 0,\n",
       "  'fins': 0,\n",
       "  'legs': 2,\n",
       "  'class_type': 'Bird'},\n",
       " {'animal_name': 'wren',\n",
       "  'hair': 0,\n",
       "  'feathers': '?',\n",
       "  'eggs': 1,\n",
       "  'milk': 0,\n",
       "  'aquatic': '0',\n",
       "  'toothed': 0,\n",
       "  'fins': 0,\n",
       "  'legs': 2,\n",
       "  'class_type': 'Bird'},\n",
       " {'animal_name': 'calf',\n",
       "  'hair': 1,\n",
       "  'feathers': '0',\n",
       "  'eggs': 0,\n",
       "  'milk': 1,\n",
       "  'aquatic': '0',\n",
       "  'toothed': 1,\n",
       "  'fins': 0,\n",
       "  'legs': 4,\n",
       "  'class_type': 'Mammal'},\n",
       " {'animal_name': 'hawk',\n",
       "  'hair': 0,\n",
       "  'feathers': '?',\n",
       "  'eggs': 1,\n",
       "  'milk': 0,\n",
       "  'aquatic': '0',\n",
       "  'toothed': 0,\n",
       "  'fins': 0,\n",
       "  'legs': 2,\n",
       "  'class_type': 'Bird'},\n",
       " {'animal_name': 'giraffe',\n",
       "  'hair': 1,\n",
       "  'feathers': '0',\n",
       "  'eggs': 0,\n",
       "  'milk': 1,\n",
       "  'aquatic': '0',\n",
       "  'toothed': 1,\n",
       "  'fins': 0,\n",
       "  'legs': 4,\n",
       "  'class_type': 'Mammal'}]"
      ]
     },
     "execution_count": 4,
     "metadata": {},
     "output_type": "execute_result"
    }
   ],
   "source": [
    "data"
   ]
  },
  {
   "cell_type": "markdown",
   "id": "d378681d",
   "metadata": {
    "deletable": false,
    "editable": false,
    "nbgrader": {
     "grade": false,
     "grade_id": "cell-fd89bd0afbd4e368",
     "locked": true,
     "schema_version": 3,
     "solution": false,
     "task": false
    }
   },
   "source": [
    "## Question 1\n",
    "\n",
    "The variable `data` is a list of dictionaries.\n",
    "\n",
    "Create a function `replace_unknown` that:\n",
    "- Receives as argument a list of dictionaries;\n",
    "- In each dictionary, it replaces all the '?' you find with the string value '1';\n",
    "- Returns the modified list of dictionaires;\n",
    "\n",
    "Note: values should retain the original datatypes."
   ]
  },
  {
   "cell_type": "code",
   "execution_count": 13,
   "id": "bbf38525",
   "metadata": {
    "deletable": false,
    "nbgrader": {
     "grade": false,
     "grade_id": "cell-7d5d16f632d819c3",
     "locked": false,
     "schema_version": 3,
     "solution": true,
     "task": false
    }
   },
   "outputs": [],
   "source": [
    "def replace_unknown(data):\n",
    "    lista=[]\n",
    "    for dicio in data:\n",
    "        dicio2={}\n",
    "        for k, v in dicio.items():\n",
    "            if v =='?':\n",
    "            #k_= str(k).replace('?', '1')  \n",
    "                v_= str(v).replace('?', '1')\n",
    "                dicio2[k] = v_\n",
    "            else:            \n",
    "                dicio2[k] = v     \n",
    "        lista.append(dicio2)\n",
    "    return lista\n",
    "    # YOUR CODE HERE\n",
    "    #raise NotImplementedError()"
   ]
  },
  {
   "cell_type": "code",
   "execution_count": 14,
   "id": "69071a6d",
   "metadata": {
    "deletable": false,
    "editable": false,
    "nbgrader": {
     "grade": true,
     "grade_id": "cell-2ec0be01019aa1ce",
     "locked": true,
     "points": 3,
     "schema_version": 3,
     "solution": false,
     "task": false
    }
   },
   "outputs": [
    {
     "name": "stdout",
     "output_type": "stream",
     "text": [
      "Answer is correct. Good Job.\n"
     ]
    }
   ],
   "source": [
    "utils.b2w2_exerc_1_grading(replace_unknown)\n",
    "print(\"Answer is correct. Good Job.\")"
   ]
  },
  {
   "cell_type": "markdown",
   "id": "71e404b7",
   "metadata": {
    "deletable": false,
    "editable": false,
    "nbgrader": {
     "grade": false,
     "grade_id": "cell-3621c2a2ef02f627",
     "locked": true,
     "schema_version": 3,
     "solution": false,
     "task": false
    }
   },
   "source": [
    "## Question 2\n",
    "\n",
    "The variable `data` is a list of dictionaries.\n",
    "\n",
    "Create a function `convert_int` that:\n",
    "- Receives as argument a list of dictionaries;\n",
    "- In each dictionary, find all the numeric values and make sure their data type is `int`;\n",
    "- Returns the modified list of dictionaires;\n",
    "\n",
    "Hint: `isdigit()`"
   ]
  },
  {
   "cell_type": "code",
   "execution_count": 17,
   "id": "54a01c88",
   "metadata": {
    "deletable": false,
    "nbgrader": {
     "grade": false,
     "grade_id": "cell-5b768d0072b87818",
     "locked": false,
     "schema_version": 3,
     "solution": true,
     "task": false
    }
   },
   "outputs": [],
   "source": [
    "def convert_int(data):\n",
    "    lista=[]\n",
    "    for dicio in data:\n",
    "        dicio2={}\n",
    "        for k,v in dicio.items():\n",
    "            if type(v)==str and v.isdigit():\n",
    "                v=int(v)\n",
    "            dicio2[k]=v    \n",
    "        lista.append(dicio2)\n",
    "    return lista        \n",
    "    # YOUR CODE HERE\n",
    "    #raise NotImplementedError()"
   ]
  },
  {
   "cell_type": "code",
   "execution_count": 18,
   "id": "7f388139",
   "metadata": {
    "deletable": false,
    "editable": false,
    "nbgrader": {
     "grade": true,
     "grade_id": "cell-9138a4e7a89f3adc",
     "locked": true,
     "points": 3,
     "schema_version": 3,
     "solution": false,
     "task": false
    }
   },
   "outputs": [
    {
     "name": "stdout",
     "output_type": "stream",
     "text": [
      "Answer is correct. Good Job.\n"
     ]
    }
   ],
   "source": [
    "utils.b2w2_exerc_2_grading(convert_int)\n",
    "print(\"Answer is correct. Good Job.\")"
   ]
  },
  {
   "cell_type": "markdown",
   "id": "e715d86a",
   "metadata": {
    "deletable": false,
    "editable": false,
    "nbgrader": {
     "grade": false,
     "grade_id": "cell-279e83540d9c180f",
     "locked": true,
     "schema_version": 3,
     "solution": false,
     "task": false
    }
   },
   "source": [
    "## Question 3\n",
    "\n",
    "The variable `data` is a list of dictionaries.\n",
    "\n",
    "Create a function `lower_class` that:\n",
    "\n",
    "- Receives as argument a list of dictionaries;\n",
    "- For each element of the list, find the key 'class_type' and convert the correspondent value to lower case;\n",
    "- Returns the modified list of dictionaires;"
   ]
  },
  {
   "cell_type": "code",
   "execution_count": 19,
   "id": "6139711d",
   "metadata": {
    "deletable": false,
    "nbgrader": {
     "grade": false,
     "grade_id": "cell-0f7774d47c55eb30",
     "locked": false,
     "schema_version": 3,
     "solution": true,
     "task": false
    }
   },
   "outputs": [],
   "source": [
    "def lower_class(data):\n",
    "    lista=[]\n",
    "    for dicio in data:\n",
    "        dicio2={}\n",
    "        for k,v in dicio.items():            \n",
    "            if k == 'class_type':\n",
    "                v=v.lower()\n",
    "            dicio2[k]=v    \n",
    "        lista.append(dicio2)\n",
    "    return lista \n",
    "    # YOUR CODE HERE\n",
    "    #raise NotImplementedError()"
   ]
  },
  {
   "cell_type": "code",
   "execution_count": 20,
   "id": "2a3eb0fa",
   "metadata": {
    "deletable": false,
    "editable": false,
    "nbgrader": {
     "grade": true,
     "grade_id": "cell-3a68fa6f6e905977",
     "locked": true,
     "points": 3,
     "schema_version": 3,
     "solution": false,
     "task": false
    }
   },
   "outputs": [
    {
     "name": "stdout",
     "output_type": "stream",
     "text": [
      "Answer is correct. Good Job.\n"
     ]
    }
   ],
   "source": [
    "utils.b2w2_exerc_3_grading(lower_class)\n",
    "print(\"Answer is correct. Good Job.\")"
   ]
  },
  {
   "cell_type": "markdown",
   "id": "36ac1f3b",
   "metadata": {
    "deletable": false,
    "editable": false,
    "nbgrader": {
     "grade": false,
     "grade_id": "cell-2d6d311be1937561",
     "locked": true,
     "schema_version": 3,
     "solution": false,
     "task": false
    }
   },
   "source": [
    "## Question 4\n",
    "\n",
    "The variable `data` is a list of dictionaries.\n",
    "\n",
    "Create a function `order_animals` that:\n",
    "\n",
    "- Receives as argument a list of dictionaries;\n",
    "- Order the animals by number of legs;\n",
    "- Return them as a list of (animal_name, class_type, legs) tuples;"
   ]
  },
  {
   "cell_type": "code",
   "execution_count": 35,
   "id": "ee4dd783",
   "metadata": {
    "deletable": false,
    "nbgrader": {
     "grade": false,
     "grade_id": "cell-122a9ec5cefa138a",
     "locked": false,
     "schema_version": 3,
     "solution": true,
     "task": false
    }
   },
   "outputs": [],
   "source": [
    "def order_animals(data):\n",
    "    lista=[]\n",
    "    for dicio in data:\n",
    "        lista2=[]\n",
    "        for k,v in dicio.items(): \n",
    "            if k == 'animal_name':\n",
    "                lista2.append(v)\n",
    "            if k == 'class_type':\n",
    "                lista2.append(v) \n",
    "            if k == 'legs':\n",
    "                lista2.append(v)     \n",
    "        lista.append(lista2)\n",
    "    \n",
    "    sorted_list= sorted(lista, key=lambda x: int(x[1]))\n",
    "    swept=list(map(lambda x: (x[0], x[2], x[1]), sorted_list))\n",
    "    \n",
    "    return swept        \n",
    "                \n",
    "                \n",
    "    # YOUR CODE HERE\n",
    "    #raise NotImplementedError()"
   ]
  },
  {
   "cell_type": "code",
   "execution_count": 36,
   "id": "opponent-marks",
   "metadata": {},
   "outputs": [],
   "source": [
    "ab=order_animals(data)"
   ]
  },
  {
   "cell_type": "code",
   "execution_count": 37,
   "id": "fifteen-floor",
   "metadata": {},
   "outputs": [
    {
     "data": {
      "text/plain": [
       "[('haddock', 'Fish', 0),\n",
       " ('gull', 'Bird', 2),\n",
       " ('gull', 'Bird', 2),\n",
       " ('pheasant', 'Bird', 2),\n",
       " ('crow', 'Bird', 2),\n",
       " ('wren', 'Bird', 2),\n",
       " ('hawk', 'Bird', 2),\n",
       " ('hare', 'Mammal', 4),\n",
       " ('cavy', 'Mammal', 4),\n",
       " ('calf', 'Mammal', 4),\n",
       " ('giraffe', 'Mammal', 4)]"
      ]
     },
     "execution_count": 37,
     "metadata": {},
     "output_type": "execute_result"
    }
   ],
   "source": [
    "ab"
   ]
  },
  {
   "cell_type": "code",
   "execution_count": 38,
   "id": "d56cc29d",
   "metadata": {
    "deletable": false,
    "editable": false,
    "nbgrader": {
     "grade": true,
     "grade_id": "cell-4c4b419744a6ebf6",
     "locked": true,
     "points": 3,
     "schema_version": 3,
     "solution": false,
     "task": false
    }
   },
   "outputs": [
    {
     "name": "stdout",
     "output_type": "stream",
     "text": [
      "Answer is correct. Good Job.\n"
     ]
    }
   ],
   "source": [
    "utils.b2w2_exerc_4_grading(order_animals)\n",
    "print(\"Answer is correct. Good Job.\")"
   ]
  },
  {
   "cell_type": "markdown",
   "id": "464102ff",
   "metadata": {
    "deletable": false,
    "editable": false,
    "nbgrader": {
     "grade": false,
     "grade_id": "cell-2ebd165a0a21a102",
     "locked": true,
     "schema_version": 3,
     "solution": false,
     "task": false
    }
   },
   "source": [
    "## Question 5\n",
    "\n",
    "The variable `data` is a list of dictionaries.\n",
    "\n",
    "Create a function `mammal_letters` that:\n",
    "\n",
    "- Receives as argument a list of dictionaries;\n",
    "- Filter all the mammals;\n",
    "- Return the average number of letters in the mammals' names. The return type must be a float;"
   ]
  },
  {
   "cell_type": "code",
   "execution_count": 62,
   "id": "a21c061a",
   "metadata": {
    "deletable": false,
    "nbgrader": {
     "grade": false,
     "grade_id": "cell-81f72032281eb943",
     "locked": false,
     "schema_version": 3,
     "solution": true,
     "task": false
    }
   },
   "outputs": [],
   "source": [
    "def mammals_letters(data):\n",
    "    lista=[]\n",
    "    for dicio in data:\n",
    "        for k, v in dicio.items():\n",
    "            if v=='mammal':\n",
    "                name=dicio['animal_name']\n",
    "                lista.append(len(name))\n",
    "                \n",
    "    count=0\n",
    "    for nr in lista:\n",
    "        count += nr\n",
    "        #print(count)\n",
    "    return count/len(lista)\n",
    "        \n",
    "    # YOUR CODE HERE\n",
    "    #raise NotImplementedError()"
   ]
  },
  {
   "cell_type": "code",
   "execution_count": 57,
   "id": "desperate-doctrine",
   "metadata": {},
   "outputs": [],
   "source": [
    "abc= mammals_letters(data)"
   ]
  },
  {
   "cell_type": "code",
   "execution_count": 58,
   "id": "threaded-istanbul",
   "metadata": {},
   "outputs": [
    {
     "data": {
      "text/plain": [
       "19"
      ]
     },
     "execution_count": 58,
     "metadata": {},
     "output_type": "execute_result"
    }
   ],
   "source": [
    "abc"
   ]
  },
  {
   "cell_type": "code",
   "execution_count": 46,
   "id": "liquid-heater",
   "metadata": {},
   "outputs": [],
   "source": [
    "lista=[]\n",
    "for dicio in data:\n",
    "    for k, v in dicio.items():\n",
    "        if v=='mammal':\n",
    "            name=dicio['animal_name']\n",
    "            lista.append(len(name))"
   ]
  },
  {
   "cell_type": "code",
   "execution_count": 47,
   "id": "casual-target",
   "metadata": {},
   "outputs": [
    {
     "data": {
      "text/plain": [
       "[4, 4, 4, 7]"
      ]
     },
     "execution_count": 47,
     "metadata": {},
     "output_type": "execute_result"
    }
   ],
   "source": [
    "lista"
   ]
  },
  {
   "cell_type": "code",
   "execution_count": 60,
   "id": "hydraulic-accused",
   "metadata": {},
   "outputs": [],
   "source": [
    "data_lower = utils.generate_data_lower()"
   ]
  },
  {
   "cell_type": "code",
   "execution_count": 61,
   "id": "aquatic-casino",
   "metadata": {},
   "outputs": [
    {
     "data": {
      "text/plain": [
       "[{'animal_name': 'gull',\n",
       "  'hair': 0,\n",
       "  'feathers': 1,\n",
       "  'eggs': 1,\n",
       "  'milk': 0,\n",
       "  'aquatic': 1,\n",
       "  'toothed': 0,\n",
       "  'fins': 0,\n",
       "  'legs': 2,\n",
       "  'class_type': 'bird'},\n",
       " {'animal_name': 'hare',\n",
       "  'hair': 1,\n",
       "  'feathers': 0,\n",
       "  'eggs': 0,\n",
       "  'milk': 1,\n",
       "  'aquatic': 0,\n",
       "  'toothed': 1,\n",
       "  'fins': 0,\n",
       "  'legs': 4,\n",
       "  'class_type': 'mammal'},\n",
       " {'animal_name': 'gull',\n",
       "  'hair': 0,\n",
       "  'feathers': 1,\n",
       "  'eggs': 1,\n",
       "  'milk': 0,\n",
       "  'aquatic': 1,\n",
       "  'toothed': 0,\n",
       "  'fins': 0,\n",
       "  'legs': 2,\n",
       "  'class_type': 'bird'},\n",
       " {'animal_name': 'pheasant',\n",
       "  'hair': 0,\n",
       "  'feathers': 1,\n",
       "  'eggs': 1,\n",
       "  'milk': 0,\n",
       "  'aquatic': 0,\n",
       "  'toothed': 0,\n",
       "  'fins': 0,\n",
       "  'legs': 2,\n",
       "  'class_type': 'bird'},\n",
       " {'animal_name': 'cavy',\n",
       "  'hair': 1,\n",
       "  'feathers': 0,\n",
       "  'eggs': 0,\n",
       "  'milk': 1,\n",
       "  'aquatic': 0,\n",
       "  'toothed': 1,\n",
       "  'fins': 0,\n",
       "  'legs': 4,\n",
       "  'class_type': 'mammal'},\n",
       " {'animal_name': 'haddock',\n",
       "  'hair': 0,\n",
       "  'feathers': 0,\n",
       "  'eggs': 1,\n",
       "  'milk': 0,\n",
       "  'aquatic': 1,\n",
       "  'toothed': 1,\n",
       "  'fins': 1,\n",
       "  'legs': 0,\n",
       "  'class_type': 'fish'},\n",
       " {'animal_name': 'crow',\n",
       "  'hair': 0,\n",
       "  'feathers': 1,\n",
       "  'eggs': 1,\n",
       "  'milk': 0,\n",
       "  'aquatic': 0,\n",
       "  'toothed': 0,\n",
       "  'fins': 0,\n",
       "  'legs': 2,\n",
       "  'class_type': 'bird'},\n",
       " {'animal_name': 'wren',\n",
       "  'hair': 0,\n",
       "  'feathers': 1,\n",
       "  'eggs': 1,\n",
       "  'milk': 0,\n",
       "  'aquatic': 0,\n",
       "  'toothed': 0,\n",
       "  'fins': 0,\n",
       "  'legs': 2,\n",
       "  'class_type': 'bird'},\n",
       " {'animal_name': 'calf',\n",
       "  'hair': 1,\n",
       "  'feathers': 0,\n",
       "  'eggs': 0,\n",
       "  'milk': 1,\n",
       "  'aquatic': 0,\n",
       "  'toothed': 1,\n",
       "  'fins': 0,\n",
       "  'legs': 4,\n",
       "  'class_type': 'mammal'},\n",
       " {'animal_name': 'hawk',\n",
       "  'hair': 0,\n",
       "  'feathers': 1,\n",
       "  'eggs': 1,\n",
       "  'milk': 0,\n",
       "  'aquatic': 0,\n",
       "  'toothed': 0,\n",
       "  'fins': 0,\n",
       "  'legs': 2,\n",
       "  'class_type': 'bird'},\n",
       " {'animal_name': 'giraffe',\n",
       "  'hair': 1,\n",
       "  'feathers': 0,\n",
       "  'eggs': 0,\n",
       "  'milk': 1,\n",
       "  'aquatic': 0,\n",
       "  'toothed': 1,\n",
       "  'fins': 0,\n",
       "  'legs': 4,\n",
       "  'class_type': 'mammal'}]"
      ]
     },
     "execution_count": 61,
     "metadata": {},
     "output_type": "execute_result"
    }
   ],
   "source": [
    "data_lower"
   ]
  },
  {
   "cell_type": "code",
   "execution_count": 63,
   "id": "6f2961b3",
   "metadata": {
    "deletable": false,
    "editable": false,
    "nbgrader": {
     "grade": true,
     "grade_id": "cell-03842b58f0727f29",
     "locked": true,
     "points": 3,
     "schema_version": 3,
     "solution": false,
     "task": false
    }
   },
   "outputs": [
    {
     "name": "stdout",
     "output_type": "stream",
     "text": [
      "Answer is correct. Good Job.\n"
     ]
    }
   ],
   "source": [
    "utils.b2w2_exerc_5_grading(mammals_letters)\n",
    "print(\"Answer is correct. Good Job.\")"
   ]
  },
  {
   "cell_type": "markdown",
   "id": "6bdc1941",
   "metadata": {
    "deletable": false,
    "editable": false,
    "nbgrader": {
     "grade": false,
     "grade_id": "cell-bf63f15448b685e4",
     "locked": true,
     "schema_version": 3,
     "solution": false,
     "task": false
    }
   },
   "source": [
    "## Question 6\n",
    "\n",
    "Create an `Animal` class.\n",
    "\n",
    "The class has three class parameters: `animal_name` (str), `animal_type` (str) and `eggs` (bool).\n",
    "Implement a method called `lay_eggs` that:\n",
    "- Returns random number between 0 and 10 if the animal can lay eggs (eggs parameter = True)\n",
    "- Returns the sentence \"I can't lay eggs...\" if the animal doesn't lay eggs"
   ]
  },
  {
   "cell_type": "code",
   "execution_count": 69,
   "id": "506c8f22",
   "metadata": {
    "deletable": false,
    "nbgrader": {
     "grade": false,
     "grade_id": "cell-786ac51bf37eef4c",
     "locked": false,
     "schema_version": 3,
     "solution": true,
     "task": false
    }
   },
   "outputs": [],
   "source": [
    "class Animal:\n",
    "    def __init__(self, animal_name: str, animal_type: str, eggs: bool ):\n",
    "        self.animal_name = animal_name\n",
    "        self.animal_type= animal_type\n",
    "        self.eggs=eggs\n",
    "        \n",
    "    def lay_eggs(self):\n",
    "        if self.eggs:\n",
    "            return random.randrange(0,9)\n",
    "        else:\n",
    "            return \"I can't lay eggs...\"\n",
    "            \n",
    "\n",
    "# YOUR CODE HERE\n",
    "#raise NotImplementedError()"
   ]
  },
  {
   "cell_type": "code",
   "execution_count": 70,
   "id": "ac2e1db9",
   "metadata": {
    "deletable": false,
    "editable": false,
    "nbgrader": {
     "grade": true,
     "grade_id": "cell-f50a68ec0e515188",
     "locked": true,
     "points": 5,
     "schema_version": 3,
     "solution": false,
     "task": false
    }
   },
   "outputs": [
    {
     "name": "stdout",
     "output_type": "stream",
     "text": [
      "Answer is correct. Good Job.\n"
     ]
    }
   ],
   "source": [
    "utils.b2w2_exerc_6_grading(Animal)\n",
    "print(\"Answer is correct. Good Job.\")"
   ]
  },
  {
   "cell_type": "markdown",
   "id": "93e0e6a6",
   "metadata": {
    "deletable": false,
    "editable": false,
    "nbgrader": {
     "grade": false,
     "grade_id": "cell-11ad011ecd15fd1b",
     "locked": true,
     "schema_version": 3,
     "solution": false,
     "task": false
    }
   },
   "source": [
    "### Last but not least, submit your work!"
   ]
  },
  {
   "cell_type": "markdown",
   "id": "81710125",
   "metadata": {
    "deletable": false,
    "editable": false,
    "nbgrader": {
     "grade": false,
     "grade_id": "cell-ad3fdd9b35f15a0f",
     "locked": true,
     "schema_version": 3,
     "solution": false,
     "task": false
    }
   },
   "source": [
    "To submit your work, fill your slack ID in the `slack_id` variable (as a string).\n",
    "\n",
    "Example: `slack_id = \"x-men\"`\n",
    "\n",
    "Help: if you forgot your slack ID, [read this](https://moshfeu.medium.com/how-to-find-my-member-id-in-slack-workspace-d4bba942e38c)."
   ]
  },
  {
   "cell_type": "code",
   "execution_count": 71,
   "id": "f0c31668",
   "metadata": {
    "deletable": false,
    "nbgrader": {
     "grade": false,
     "grade_id": "cell-1a02f44222e2455e",
     "locked": false,
     "schema_version": 3,
     "solution": true,
     "task": false
    }
   },
   "outputs": [],
   "source": [
    "# Submit your work!\n",
    "\n",
    "slack_id = 'U01SZNW1QAD'\n",
    "\n",
    "# YOUR CODE HERE\n",
    "#raise NotImplementedError()"
   ]
  },
  {
   "cell_type": "code",
   "execution_count": null,
   "id": "da84a44c",
   "metadata": {
    "deletable": false,
    "editable": false,
    "nbgrader": {
     "grade": true,
     "grade_id": "cell-c461aefc9884225e",
     "locked": true,
     "points": 0,
     "schema_version": 3,
     "solution": false,
     "task": false
    }
   },
   "outputs": [],
   "source": [
    "from submit import submit\n",
    "assert isinstance(slack_id, str)\n",
    "\n",
    "slu = 17_3\n",
    "submit(slack_id, slu)"
   ]
  },
  {
   "cell_type": "code",
   "execution_count": null,
   "id": "indian-holly",
   "metadata": {},
   "outputs": [],
   "source": []
  }
 ],
 "metadata": {
  "kernelspec": {
   "display_name": "Python 3",
   "language": "python",
   "name": "python3"
  },
  "language_info": {
   "codemirror_mode": {
    "name": "ipython",
    "version": 3
   },
   "file_extension": ".py",
   "mimetype": "text/x-python",
   "name": "python",
   "nbconvert_exporter": "python",
   "pygments_lexer": "ipython3",
   "version": "3.7.10"
  }
 },
 "nbformat": 4,
 "nbformat_minor": 5
}
